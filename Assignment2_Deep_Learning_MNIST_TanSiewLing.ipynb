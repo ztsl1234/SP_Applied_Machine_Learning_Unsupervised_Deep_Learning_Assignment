{
  "nbformat": 4,
  "nbformat_minor": 0,
  "metadata": {
    "colab": {
      "name": "Assignment2_Deep_Learning_MNIST_TanSiewLing.ipynb",
      "provenance": [],
      "collapsed_sections": [
        "1R8IqQrNV079",
        "GYFBWi3FVXol",
        "kJKoqn50Iw_-"
      ]
    },
    "kernelspec": {
      "name": "python3",
      "display_name": "Python 3"
    },
    "language_info": {
      "name": "python"
    },
    "accelerator": "GPU"
  },
  "cells": [
    {
      "cell_type": "markdown",
      "metadata": {
        "id": "1R8IqQrNV079"
      },
      "source": [
        "# **PART B - Deep Learning (MNIST)**\n",
        "\n"
      ]
    },
    {
      "cell_type": "markdown",
      "metadata": {
        "id": "GYFBWi3FVXol"
      },
      "source": [
        "### Implement an image classifier using a deep learning network. [Hint: You may wish to refer to papers on successful DL architectures such as AlexNet]"
      ]
    },
    {
      "cell_type": "markdown",
      "metadata": {
        "id": "LsGoS1cnT2D3"
      },
      "source": [
        "Write a short report (e.g. in Notebook) detailing your implementation, your\n",
        "experiments and analysis. In particular, we'd like to know:\n",
        "\n",
        "• How is your prediction task defined? And what is the meaning of the\n",
        "output variable?\n",
        "\n",
        "• How do you represent your data as features?\n",
        "\n",
        "• Did you process the features in any way?\n",
        "\n",
        "• Did you bring in any additional sources of data?\n",
        "\n",
        "• How did you select which DL model to use?\n",
        "\n",
        "• Did you try to tune the hyperparameters of the learning algorithm, and in\n",
        "that case how?\n",
        "\n",
        "• How do you evaluate the quality of your system?\n",
        "\n",
        "• Can you say anything about the errors that the system makes? \n",
        "For a classification task, you may consider a confusion matrix.\n",
        "\n",
        "• Is it possible to say something about which features the model considers\n",
        "important? (Whether this is possible depends on the type of classifier\n",
        "you are using)\n",
        "• Provide a reference section for any papers, online articles, books,\n",
        "publications that you have referenced."
      ]
    },
    {
      "cell_type": "markdown",
      "metadata": {
        "id": "kJKoqn50Iw_-"
      },
      "source": [
        "# Prediction task definition :\n",
        "\n",
        "To classify/recognise handwritten digit images\n",
        "\n"
      ]
    },
    {
      "cell_type": "markdown",
      "metadata": {
        "id": "8154WLOZRAWS"
      },
      "source": [
        "# Output variable : the digits (0-9)\n",
        "\n",
        "\n",
        "\n"
      ]
    },
    {
      "cell_type": "markdown",
      "metadata": {
        "id": "f6exfnjVcaHO"
      },
      "source": [
        "\n",
        "• How do you represent your data as features?\n",
        "\n",
        "• Did you process the features in any way?\n",
        "\n",
        "• Did you bring in any additional sources of data?\n",
        "\n",
        "• How did you select which DL model to use?\n",
        "\n",
        "• Did you try to tune the hyperparameters of the learning algorithm, and in\n",
        "that case how?\n",
        "\n",
        "• How do you evaluate the quality of your system?\n",
        "\n",
        "• Can you say anything about the errors that the system makes? \n",
        "For a classification task, you may consider a confusion matrix.\n",
        "\n",
        "• Is it possible to say something about which features the model considers\n",
        "important? (Whether this is possible depends on the type of classifier\n",
        "you are using)\n",
        "• Provide a reference section for any papers, online articles, books,\n",
        "publications that you have referenced."
      ]
    },
    {
      "cell_type": "markdown",
      "metadata": {
        "id": "aM6SKs9AWCYk"
      },
      "source": [
        "# LOAD DATA"
      ]
    },
    {
      "cell_type": "code",
      "metadata": {
        "id": "bDXLY47ZALLw"
      },
      "source": [
        "import tensorflow as tf\n",
        "from tensorflow import keras\n",
        "from tensorflow.keras.datasets import mnist\n",
        "from tensorflow.keras.utils import to_categorical\n",
        "\n",
        "import matplotlib.pyplot as plt\n",
        "import os\n",
        "import time\n"
      ],
      "execution_count": 27,
      "outputs": []
    },
    {
      "cell_type": "code",
      "metadata": {
        "colab": {
          "base_uri": "https://localhost:8080/"
        },
        "id": "XogrFNXtAQZs",
        "outputId": "abd85dbc-52e5-4181-cd2c-07da5cd7756a"
      },
      "source": [
        "#load the mnist dataset\n",
        "\n",
        "#already split, no need split into train and test. unless u want to split a validation set from train set\n",
        "# load (downloaded if needed) the MNIST dataset\n",
        "(X_train, y_train), (X_test, y_test) = mnist.load_data()\n"
      ],
      "execution_count": null,
      "outputs": [
        {
          "output_type": "stream",
          "text": [
            "Downloading data from https://storage.googleapis.com/tensorflow/tf-keras-datasets/mnist.npz\n",
            "11493376/11490434 [==============================] - 0s 0us/step\n"
          ],
          "name": "stdout"
        }
      ]
    },
    {
      "cell_type": "code",
      "metadata": {
        "id": "mIcXHWqaAxVN"
      },
      "source": [
        "#validation set\n",
        "#X_validation, y_validation = X_train[:5000], y_train[:5000]\n",
        "#X_train, y_train = X_train[5000:], y_train[5000:]"
      ],
      "execution_count": null,
      "outputs": []
    },
    {
      "cell_type": "markdown",
      "metadata": {
        "id": "EbWgv_JD03Nt"
      },
      "source": [
        "# EDA"
      ]
    },
    {
      "cell_type": "code",
      "metadata": {
        "colab": {
          "base_uri": "https://localhost:8080/",
          "height": 267
        },
        "id": "PQcF4Ey_33EI",
        "outputId": "b00dcfee-8bb4-4ad3-bd00-b00ed9312262"
      },
      "source": [
        "# plot 4 images as gray scale\n",
        "plt.subplot(221)\n",
        "plt.imshow(X_train[0], cmap=plt.get_cmap('gray'))\n",
        "plt.subplot(222)\n",
        "plt.imshow(X_train[1], cmap=plt.get_cmap('gray'))\n",
        "plt.subplot(223)\n",
        "plt.imshow(X_train[2], cmap=plt.get_cmap('gray'))\n",
        "plt.subplot(224)\n",
        "plt.imshow(X_train[3], cmap=plt.get_cmap('gray'))\n",
        "\n",
        "#plt.subplot(231)\n",
        "#plt.imshow(X_train[4], cmap=plt.get_cmap('gray'))\n",
        "#plt.subplot(232)\n",
        "#plt.imshow(X_train[5], cmap=plt.get_cmap('gray'))\n",
        "#plt.subplot(233)\n",
        "#plt.imshow(X_train[6], cmap=plt.get_cmap('gray'))\n",
        "#plt.subplot(234)\n",
        "#plt.imshow(X_train[7], cmap=plt.get_cmap('gray'))\n",
        "\n",
        "# show the plot\n",
        "plt.show()"
      ],
      "execution_count": null,
      "outputs": [
        {
          "output_type": "display_data",
          "data": {
            "image/png": "[encoded data removed]",
            "text/plain": [
              "<Figure size 432x288 with 4 Axes>"
            ]
          },
          "metadata": {
            "tags": [],
            "needs_background": "light"
          }
        }
      ]
    },
    {
      "cell_type": "code",
      "metadata": {
        "id": "b5MDuEfg5DYO",
        "colab": {
          "base_uri": "https://localhost:8080/"
        },
        "outputId": "80087f92-8905-4f23-d929-398996669c7d"
      },
      "source": [
        "print(X_train.shape)\n",
        "print(X_test.shape)\n",
        "\n",
        "print(X_train[0])\n",
        "\n",
        "print(y_train.shape)\n",
        "print(y_train[:20])\n",
        "\n",
        "print(y_test.shape)\n",
        "print(y_test[:20])"
      ],
      "execution_count": null,
      "outputs": [
        {
          "output_type": "stream",
          "text": [
            "(55000, 28, 28)\n",
            "(10000, 28, 28)\n",
            "[[  0   0   0   0   0   0   0   0   0   0   0   0   0   0   0   0   0   0\n",
            "    0   0   0   0   0   0   0   0   0   0]\n",
            " [  0   0   0   0   0   0   0   0   0   0   0   0   0   0   0   0   0   0\n",
            "    0   0   0   0   0   0   0   0   0   0]\n",
            " [  0   0   0   0   0   0   0   0   0   0   0   0   0   0   0   0   0   0\n",
            "    0   0   0   0   0   0   0   0   0   0]\n",
            " [  0   0   0   0   0   0   0   0   0   0   0   0   0   0   0   0   0   0\n",
            "    0   0   0   0   0   0   0   0   0   0]\n",
            " [  0   0   0   0   0   0   0   0   0   0   0   0   0   0   0   0   0   0\n",
            "    0   0   0   0   0   0   0   0   0   0]\n",
            " [  0   0   0   0   0   0   0   0   0   0   0   0   0   0   0   0   0   0\n",
            "    0   0   0   0   0   0   0   0   0   0]\n",
            " [  0   0   0   0   0   0   0   0   0   0   0   0   0   0   0   0   0   0\n",
            "    0   0   0   0   0   0   0   0   0   0]\n",
            " [  0   0   0   0   0   0   0   0   0   0   0  97  96  77 118  61   0   0\n",
            "    0   0   0   0   0   0   0   0   0   0]\n",
            " [  0   0   0  90 138 235 235 235 235 235 235 251 251 248 254 245 235 190\n",
            "   21   0   0   0   0   0   0   0   0   0]\n",
            " [  0   0 140 251 254 254 254 254 254 254 254 254 254 254 254 254 254 254\n",
            "  189  23   0   0   0   0   0   0   0   0]\n",
            " [  0   0 226 254 208 199 199 199 199 139  61  61  61  61  61 128 222 254\n",
            "  254 189  21   0   0   0   0   0   0   0]\n",
            " [  0   0  38  82  13   0   0   0   0   0   0   0   0   0   0   0  34 213\n",
            "  254 254 115   0   0   0   0   0   0   0]\n",
            " [  0   0   0   0   0   0   0   0   0   0   0   0   0   0   0   0   0  84\n",
            "  254 254 234   0   0   0   0   0   0   0]\n",
            " [  0   0   0   0   0   0   0   0   0   0   0   0   0   0   0   0   0  84\n",
            "  254 254 234   0   0   0   0   0   0   0]\n",
            " [  0   0   0   0   0   0   0   0   0   0   0   0   0   0   0   0 106 157\n",
            "  254 254 243  51   0   0   0   0   0   0]\n",
            " [  0   0   0   0   0   0   0   0   0   0   0  25 117 228 228 228 253 254\n",
            "  254 254 254 240   0   0   0   0   0   0]\n",
            " [  0   0   0   0   0   0   0   0   0  68 119 220 254 254 254 254 254 254\n",
            "  254 254 254 142   0   0   0   0   0   0]\n",
            " [  0   0   0   0   0   0   0  37 187 253 254 254 254 223 206 206  75  68\n",
            "  215 254 254 117   0   0   0   0   0   0]\n",
            " [  0   0   0   0   0   0 113 219 254 242 227 115  89  31   0   0   0   0\n",
            "  200 254 241  41   0   0   0   0   0   0]\n",
            " [  0   0   0   0   0   0 169 254 176  62   0   0   0   0   0   0   0  48\n",
            "  231 254 234   0   0   0   0   0   0   0]\n",
            " [  0   0   0   0   0   0  18 124   0   0   0   0   0   0   0   0   0  84\n",
            "  254 254 166   0   0   0   0   0   0   0]\n",
            " [  0   0   0   0   0   0   0   0   0   0   0   0   0   0   0   0   0 139\n",
            "  254 238  57   0   0   0   0   0   0   0]\n",
            " [  0   0   0   0   0   0   0   0   0   0   0   0   0   0   0   0 210 250\n",
            "  254 168   0   0   0   0   0   0   0   0]\n",
            " [  0   0   0   0   0   0   0   0   0   0   0   0   0   0   0   0 242 254\n",
            "  239  57   0   0   0   0   0   0   0   0]\n",
            " [  0   0   0   0   0   0   0   0   0   0   0   0   0   0   0  89 251 241\n",
            "   86   0   0   0   0   0   0   0   0   0]\n",
            " [  0   0   0   0   0   0   0   0   0   0   0   0   0   0   5 206 246 157\n",
            "    0   0   0   0   0   0   0   0   0   0]\n",
            " [  0   0   0   0   0   0   0   0   0   0   0   0   0   0   4 117  69   0\n",
            "    0   0   0   0   0   0   0   0   0   0]\n",
            " [  0   0   0   0   0   0   0   0   0   0   0   0   0   0   0   0   0   0\n",
            "    0   0   0   0   0   0   0   0   0   0]]\n",
            "(55000,)\n",
            "[7 3 4 6 1 8 1 0 9 8 0 3 1 2 7 0 2 9 6 0]\n",
            "(10000,)\n",
            "[7 2 1 0 4 1 4 9 5 9 0 6 9 0 1 5 9 7 3 4]\n"
          ],
          "name": "stdout"
        }
      ]
    },
    {
      "cell_type": "markdown",
      "metadata": {
        "id": "ODCRu3f3uFNw"
      },
      "source": [
        "3-dimensional array of instance,image width and image height. "
      ]
    },
    {
      "cell_type": "markdown",
      "metadata": {
        "id": "QNP-kOL88led"
      },
      "source": [
        "explore data using histogram?"
      ]
    },
    {
      "cell_type": "markdown",
      "metadata": {
        "id": "pDlGaRbxAqT7"
      },
      "source": [
        "# Data Pre-processing"
      ]
    },
    {
      "cell_type": "markdown",
      "metadata": {
        "id": "eFn1wxV0BfA2"
      },
      "source": [
        "# **(a) Scaling**\n",
        "- to normalize inputs from 0-255 to 0-1"
      ]
    },
    {
      "cell_type": "code",
      "metadata": {
        "id": "zE5Uv9drBfXO"
      },
      "source": [
        "#X - do scaling\n",
        "# normalize inputs from 0-255 to 0-1 , no need call standard scalar\n",
        "X_train = X_train / 255\n",
        "X_test = X_test / 255"
      ],
      "execution_count": null,
      "outputs": []
    },
    {
      "cell_type": "markdown",
      "metadata": {
        "id": "bAC4pC9T62nk"
      },
      "source": [
        "# **(b) One-Hot encoding**\n",
        "\n",
        "so that 1 integer can represent 10 output neurons using softmax activation\n",
        "convert 1 single column to 10 columns\n",
        "-separate neuron for each output class\n",
        "\n",
        "We need convert the digit integer into a representation that can fit 10 output neurons. And use softmax activation. One-hot encode the values. I0-I1-I2-I3-I4-I5-I6-I7-I8-I9\n",
        "0-0-0-0-1-0-0-0-0-0\n",
        "\n",
        "4=0-0-0-0-1-0-0-0-0-0\n",
        "\n"
      ]
    },
    {
      "cell_type": "code",
      "metadata": {
        "id": "4C6Q5iXWBM1o",
        "colab": {
          "base_uri": "https://localhost:8080/"
        },
        "outputId": "6098e1d9-298a-4d64-f0d0-bb07e216f4ab"
      },
      "source": [
        "\n",
        "# Y - one hot encode outputs so as to represent 10 outputs\n",
        "y_train = to_categorical(y_train)\n",
        "y_test = to_categorical(y_test)\n",
        "num_classes = y_test.shape[1]\n",
        "print(num_classes)"
      ],
      "execution_count": null,
      "outputs": [
        {
          "output_type": "stream",
          "text": [
            "10\n"
          ],
          "name": "stdout"
        }
      ]
    },
    {
      "cell_type": "markdown",
      "metadata": {
        "id": "19mXlj4TBbpU"
      },
      "source": [
        ""
      ]
    },
    {
      "cell_type": "markdown",
      "metadata": {
        "id": "kIQNVBMOB6aC"
      },
      "source": [
        "# Model used - Complex CNN\n",
        "\n",
        "- less trainable weight (due to max pooling)\n",
        "\n",
        "\n",
        "\n",
        "\n",
        "\n"
      ]
    },
    {
      "cell_type": "markdown",
      "metadata": {
        "id": "w-g4aUphx4R7"
      },
      "source": [
        "model consist of :\n",
        "\n",
        "(a) Input Layer :\n",
        "\n",
        "Convolutional Layer: Conv2D - filter size (3,3), 30 filters\n",
        "\n",
        "Pooling Layer : MaxPooling2D - pool size (2,2) to downsize the image and hence reduce the trainable parameters\n",
        "\n",
        "Best Practices - All layers use the ReLU activation function and the he_uniform kernel initializer ( weight initialization scheme)\n",
        "\n",
        "(B) Hidden Layers:\n",
        "\n",
        "Convolutional Layer: Conv2D - filter size (3,3), 15 filters\n",
        "Pooling Layer : MaxPooling2D - pool size (2,2) \n",
        "\n",
        "Dropout Layer : For  regularization - randomly reducing the number of interconnecting neurons within a neural network based on the given probability (0.5) to avoid overfitting.\n",
        "\n",
        "Flatten Layer :  flattens input image data into a one-dimensional array.\n",
        "\n",
        "Dense Layer: to interpret the features with 100 nodes\n",
        "\n",
        "Dense Layer: to interpret the features with 50 nodes\n",
        "\n",
        "\n",
        "(C) Output Layer:\n",
        "\n",
        "Dense Layer : - With 10 neurons/nodes to predict the image belonging to one of the 10 digits (0-9) using softmax activation function\n",
        "\n",
        "\n",
        "Compile the model with  categorical cross-entropy loss function optimized with adam optimizer and the classification accuracy metric\n"
      ]
    },
    {
      "cell_type": "markdown",
      "metadata": {
        "id": "t984UuoUoFsP"
      },
      "source": [
        "# Hyperparameters tuning:\n",
        "\n",
        "\n",
        "**Number of epochs**\n",
        "\n",
        "- tune from 10 to 20 until the gap between the test error and the training error is small\n",
        "\n",
        "- As the epoch increased from 10 to 99, the error gradually drop to below 6 but this increases the training time as the training set will have to pass the network 99 times!\n",
        "\n",
        "**Batch size**\n",
        "\n",
        "- tested from 16 to 100 to 150 to 200\n",
        "- as batch size increases, the error gradually decrease\n",
        "\n",
        "\n",
        "**Number of hidden layers and units**\n",
        "\n",
        "- Added 1 pair of Convolution layer and Pooling layer besides the input layer pair\n",
        "- Added 2 dense layers\n",
        "\n",
        "until test error no longer improves. \n",
        "\n",
        "**Dropout for regularization**\n",
        "\n",
        "- tune from 0.2 to 0.5 to increase the probability of dropping out the nodes in the neural network to regularize to avoid overfitting\n"
      ]
    },
    {
      "cell_type": "code",
      "metadata": {
        "colab": {
          "base_uri": "https://localhost:8080/"
        },
        "id": "VKXxGMf5CAh7",
        "outputId": "66b7ea09-6fae-4418-e4a4-c8af85cd7cec"
      },
      "source": [
        "# Complex CNN Model\n",
        "import numpy\n",
        "import tensorflow as tf\n",
        "from tensorflow.keras.datasets import mnist\n",
        "from tensorflow.keras.models import Sequential\n",
        "from tensorflow.keras.layers import Dense\n",
        "from tensorflow.keras.layers import Dropout\n",
        "from tensorflow.keras.layers import Flatten\n",
        "from tensorflow.keras.layers import Conv2D\n",
        "from tensorflow.keras.layers import MaxPooling2D\n",
        "from tensorflow.keras.utils import to_categorical\n",
        "\n",
        "from keras.layers import BatchNormalization\n",
        "from keras.optimizers import SGD\n",
        "\n",
        "# fix random seed for reproducibility\n",
        "seed = 88\n",
        "numpy.random.seed(seed)\n",
        "\n",
        "# load data\n",
        "(X_train, y_train), (X_test, y_test) = mnist.load_data()\n",
        "\n",
        "# Data Pre-processing\n",
        "\n",
        "num_pixels = X_train.shape[1] * X_train.shape[2]\n",
        "print(num_pixels)\n",
        "\n",
        "# flatten 28*28 pixel images to a 784 pixels vector (single array) for each image\n",
        "#convert from integer to float (0 (black) -255(white) )\n",
        "#convert float because matix multiplcation in neural network works better with float\n",
        "# reshape to be [samples][pixels][width][height]\n",
        "X_train = X_train.reshape(X_train.shape[0], 28, 28, 1).astype('float32')\n",
        "X_test = X_test.reshape(X_test.shape[0], 28, 28, 1).astype('float32')\n",
        "\n",
        "#X - do scaling\n",
        "# normalize inputs from 0-255 to 0-1 , no need call standard scalar\n",
        "X_train = X_train / 255\n",
        "X_test = X_test / 255\n",
        "\n",
        "# Y - one hot encode outputs so as to represent 10 outputs\n",
        "y_train = to_categorical(y_train)\n",
        "y_test = to_categorical(y_test)\n",
        "num_classes = y_test.shape[1]\n",
        "print(num_classes)\n",
        "\n",
        "# build the model\n",
        "# create model\n",
        "model = Sequential()\n",
        "\n",
        "#input layer\n",
        "\n",
        "#Conv layer (filter layer) need input shape,28x28x1(NHWC) - 1 colour (monochrome)\n",
        "#filter size (5,5), number of filters=32\n",
        "#model.add(Conv2D(30, (5, 5), input_shape=(28, 28, 1), activation='relu'))\n",
        "model.add(Conv2D(30, (5, 5), input_shape=(28, 28, 1), activation='relu', kernel_initializer='he_uniform'))#0.60%\n",
        "model.add(MaxPooling2D(pool_size=(2, 2))) #pooling layer is a compression layer - downsize image (insert in between conv layer but don't too much, the original image will be gone)\n",
        "\n",
        "# Hidden layers\n",
        "#model.add(Conv2D(15, (3, 3), activation='relu'))\n",
        "model.add(Conv2D(15, (3, 3), activation='relu', kernel_initializer='he_uniform'))#0.76\n",
        "model.add(MaxPooling2D(pool_size=(2, 2)))\n",
        "model.add(Dropout(0.5)) #tune from 0.2 to 0.5\n",
        "model.add(Flatten())\n",
        "model.add(Flatten())\n",
        "model.add(Dense(100, activation='relu', kernel_initializer='he_uniform'))\n",
        "model.add(Dense(50, activation='relu', kernel_initializer='he_uniform'))\n",
        "\n",
        "#output layer - 10 neurons to predict the images of 10 digits (0-9)\n",
        "model.add(Dense(num_classes, activation='softmax'))\n",
        "\n",
        "# Compile model\n",
        "#opt = SGD(learning_rate=0.01, momentum=0.9)\n",
        "model.compile(loss='categorical_crossentropy',optimizer='adam', metrics=['accuracy'])\n",
        "#model.compile(loss='categorical_crossentropy',optimizer=opt, metrics=['accuracy'])\n",
        "print(model.summary())\n",
        "\n",
        "# Fit the model\n",
        "historyCOM = model.fit(X_train, y_train, validation_data=(X_test, y_test), epochs=20, batch_size=200, verbose=2)#0.60\n",
        "\n",
        "# Final evaluation of the model\n",
        "scores = model.evaluate(X_test, y_test, verbose=0)\n",
        "print(\"CNN Error: %.2f%%\" % (100-scores[1]*100))"
      ],
      "execution_count": 6,
      "outputs": [
        {
          "output_type": "stream",
          "text": [
            "784\n",
            "10\n",
            "Model: \"sequential_5\"\n",
            "_________________________________________________________________\n",
            "Layer (type)                 Output Shape              Param #   \n",
            "=================================================================\n",
            "conv2d_10 (Conv2D)           (None, 24, 24, 30)        780       \n",
            "_________________________________________________________________\n",
            "max_pooling2d_10 (MaxPooling (None, 12, 12, 30)        0         \n",
            "_________________________________________________________________\n",
            "conv2d_11 (Conv2D)           (None, 10, 10, 15)        4065      \n",
            "_________________________________________________________________\n",
            "max_pooling2d_11 (MaxPooling (None, 5, 5, 15)          0         \n",
            "_________________________________________________________________\n",
            "dropout_5 (Dropout)          (None, 5, 5, 15)          0         \n",
            "_________________________________________________________________\n",
            "flatten_5 (Flatten)          (None, 375)               0         \n",
            "_________________________________________________________________\n",
            "flatten_6 (Flatten)          (None, 375)               0         \n",
            "_________________________________________________________________\n",
            "dense_15 (Dense)             (None, 100)               37600     \n",
            "_________________________________________________________________\n",
            "dense_16 (Dense)             (None, 50)                5050      \n",
            "_________________________________________________________________\n",
            "dense_17 (Dense)             (None, 10)                510       \n",
            "=================================================================\n",
            "Total params: 48,005\n",
            "Trainable params: 48,005\n",
            "Non-trainable params: 0\n",
            "_________________________________________________________________\n",
            "None\n",
            "Epoch 1/20\n",
            "300/300 - 2s - loss: 0.5294 - accuracy: 0.8263 - val_loss: 0.0860 - val_accuracy: 0.9718\n",
            "Epoch 2/20\n",
            "300/300 - 1s - loss: 0.1460 - accuracy: 0.9543 - val_loss: 0.0536 - val_accuracy: 0.9826\n",
            "Epoch 3/20\n",
            "300/300 - 1s - loss: 0.1122 - accuracy: 0.9642 - val_loss: 0.0428 - val_accuracy: 0.9856\n",
            "Epoch 4/20\n",
            "300/300 - 1s - loss: 0.0941 - accuracy: 0.9705 - val_loss: 0.0365 - val_accuracy: 0.9874\n",
            "Epoch 5/20\n",
            "300/300 - 1s - loss: 0.0834 - accuracy: 0.9734 - val_loss: 0.0333 - val_accuracy: 0.9877\n",
            "Epoch 6/20\n",
            "300/300 - 1s - loss: 0.0777 - accuracy: 0.9762 - val_loss: 0.0318 - val_accuracy: 0.9887\n",
            "Epoch 7/20\n",
            "300/300 - 1s - loss: 0.0695 - accuracy: 0.9780 - val_loss: 0.0298 - val_accuracy: 0.9902\n",
            "Epoch 8/20\n",
            "300/300 - 1s - loss: 0.0663 - accuracy: 0.9792 - val_loss: 0.0253 - val_accuracy: 0.9914\n",
            "Epoch 9/20\n",
            "300/300 - 1s - loss: 0.0624 - accuracy: 0.9806 - val_loss: 0.0275 - val_accuracy: 0.9903\n",
            "Epoch 10/20\n",
            "300/300 - 1s - loss: 0.0553 - accuracy: 0.9821 - val_loss: 0.0234 - val_accuracy: 0.9914\n",
            "Epoch 11/20\n",
            "300/300 - 1s - loss: 0.0557 - accuracy: 0.9821 - val_loss: 0.0225 - val_accuracy: 0.9919\n",
            "Epoch 12/20\n",
            "300/300 - 1s - loss: 0.0544 - accuracy: 0.9825 - val_loss: 0.0247 - val_accuracy: 0.9916\n",
            "Epoch 13/20\n",
            "300/300 - 1s - loss: 0.0504 - accuracy: 0.9837 - val_loss: 0.0260 - val_accuracy: 0.9911\n",
            "Epoch 14/20\n",
            "300/300 - 1s - loss: 0.0502 - accuracy: 0.9838 - val_loss: 0.0214 - val_accuracy: 0.9927\n",
            "Epoch 15/20\n",
            "300/300 - 1s - loss: 0.0460 - accuracy: 0.9849 - val_loss: 0.0227 - val_accuracy: 0.9916\n",
            "Epoch 16/20\n",
            "300/300 - 1s - loss: 0.0443 - accuracy: 0.9861 - val_loss: 0.0258 - val_accuracy: 0.9917\n",
            "Epoch 17/20\n",
            "300/300 - 1s - loss: 0.0405 - accuracy: 0.9868 - val_loss: 0.0191 - val_accuracy: 0.9936\n",
            "Epoch 18/20\n",
            "300/300 - 1s - loss: 0.0408 - accuracy: 0.9865 - val_loss: 0.0210 - val_accuracy: 0.9926\n",
            "Epoch 19/20\n",
            "300/300 - 1s - loss: 0.0394 - accuracy: 0.9869 - val_loss: 0.0218 - val_accuracy: 0.9924\n",
            "Epoch 20/20\n",
            "300/300 - 1s - loss: 0.0404 - accuracy: 0.9865 - val_loss: 0.0207 - val_accuracy: 0.9935\n",
            "CNN Error: 0.65%\n"
          ],
          "name": "stdout"
        }
      ]
    },
    {
      "cell_type": "markdown",
      "metadata": {
        "id": "4fOwxGSXB8ct"
      },
      "source": [
        ""
      ]
    },
    {
      "cell_type": "code",
      "metadata": {
        "colab": {
          "base_uri": "https://localhost:8080/",
          "height": 295
        },
        "id": "g8NzFXx_FpzL",
        "outputId": "d69d2734-060b-4182-b2b8-e7e0eb0aabe2"
      },
      "source": [
        "import matplotlib.pyplot as plt\n",
        "# Plot history: MAE\n",
        "plt.plot(historyCOM.history['loss'], label='MAE (training data)')\n",
        "plt.ylim(-0.05, 0.5)\n",
        "plt.plot(historyCOM.history['val_loss'], label='MAE (validation data)')\n",
        "\n",
        "plt.title('Loss')\n",
        "plt.ylabel('Loss value')\n",
        "plt.xlabel('No. epoch')\n",
        "plt.ylim(-0.05, 0.5)\n",
        "plt.legend(loc=\"upper left\")\n",
        "plt.show()"
      ],
      "execution_count": 8,
      "outputs": [
        {
          "output_type": "display_data",
          "data": {
            "image/png": "[encoded data removed]",
            "text/plain": [
              "<Figure size 432x288 with 1 Axes>"
            ]
          },
          "metadata": {
            "tags": [],
            "needs_background": "light"
          }
        }
      ]
    },
    {
      "cell_type": "markdown",
      "metadata": {
        "id": "qcR7fUCF6eSa"
      },
      "source": [
        "Evaluation - Confusion matrix"
      ]
    },
    {
      "cell_type": "code",
      "metadata": {
        "colab": {
          "base_uri": "https://localhost:8080/",
          "height": 583
        },
        "id": "kyXmqAto-Q6I",
        "outputId": "912eaad8-df30-499c-c7e6-7d4d540bb12e"
      },
      "source": [
        "from sklearn.metrics import confusion_matrix, precision_score, recall_score, f1_score, cohen_kappa_score\n",
        "\n",
        "y_pred = model.predict(X_test)\n",
        "\n",
        "print(y_pred)\n",
        "\n",
        "# Confusion matrix\n",
        "#confusion_matrix(y_test, y_pred)\n",
        "\n",
        "#precision_score(y_test, y_pred)"
      ],
      "execution_count": null,
      "outputs": [
        {
          "output_type": "stream",
          "text": [
            "[[1.63197658e-15 1.31283984e-10 1.00637326e-12 ... 1.00000000e+00\n",
            "  5.21985536e-15 9.23041366e-11]\n",
            " [3.40640127e-10 5.79427760e-05 9.99942064e-01 ... 5.17854426e-09\n",
            "  2.03801906e-11 2.72724090e-13]\n",
            " [1.07323046e-10 9.99999523e-01 4.40671555e-10 ... 4.84548792e-08\n",
            "  7.01780678e-09 2.94204688e-10]\n",
            " ...\n",
            " [1.37237859e-19 1.25608562e-12 9.45279769e-16 ... 2.64428263e-13\n",
            "  1.71683284e-12 2.20733046e-12]\n",
            " [6.17268061e-15 1.06518450e-16 4.84890225e-19 ... 8.31369508e-16\n",
            "  4.29523301e-12 1.51942532e-13]\n",
            " [1.38262957e-08 2.97206926e-10 8.36078595e-10 ... 3.22368339e-14\n",
            "  6.67108537e-08 7.31404780e-12]]\n"
          ],
          "name": "stdout"
        },
        {
          "output_type": "error",
          "ename": "ValueError",
          "evalue": "ignored",
          "traceback": [
            "\u001b[0;31m---------------------------------------------------------------------------\u001b[0m",
            "\u001b[0;31mValueError\u001b[0m                                Traceback (most recent call last)",
            "\u001b[0;32m<ipython-input-24-d7c2897ea0c7>\u001b[0m in \u001b[0;36m<module>\u001b[0;34m()\u001b[0m\n\u001b[1;32m      8\u001b[0m \u001b[0;31m#confusion_matrix(y_test, y_pred)\u001b[0m\u001b[0;34m\u001b[0m\u001b[0;34m\u001b[0m\u001b[0;34m\u001b[0m\u001b[0m\n\u001b[1;32m      9\u001b[0m \u001b[0;34m\u001b[0m\u001b[0m\n\u001b[0;32m---> 10\u001b[0;31m \u001b[0mprecision_score\u001b[0m\u001b[0;34m(\u001b[0m\u001b[0my_test\u001b[0m\u001b[0;34m,\u001b[0m \u001b[0my_pred\u001b[0m\u001b[0;34m)\u001b[0m\u001b[0;34m\u001b[0m\u001b[0;34m\u001b[0m\u001b[0m\n\u001b[0m",
            "\u001b[0;32m/usr/local/lib/python3.7/dist-packages/sklearn/metrics/_classification.py\u001b[0m in \u001b[0;36mprecision_score\u001b[0;34m(y_true, y_pred, labels, pos_label, average, sample_weight, zero_division)\u001b[0m\n\u001b[1;32m   1670\u001b[0m                                                  \u001b[0mwarn_for\u001b[0m\u001b[0;34m=\u001b[0m\u001b[0;34m(\u001b[0m\u001b[0;34m'precision'\u001b[0m\u001b[0;34m,\u001b[0m\u001b[0;34m)\u001b[0m\u001b[0;34m,\u001b[0m\u001b[0;34m\u001b[0m\u001b[0;34m\u001b[0m\u001b[0m\n\u001b[1;32m   1671\u001b[0m                                                  \u001b[0msample_weight\u001b[0m\u001b[0;34m=\u001b[0m\u001b[0msample_weight\u001b[0m\u001b[0;34m,\u001b[0m\u001b[0;34m\u001b[0m\u001b[0;34m\u001b[0m\u001b[0m\n\u001b[0;32m-> 1672\u001b[0;31m                                                  zero_division=zero_division)\n\u001b[0m\u001b[1;32m   1673\u001b[0m     \u001b[0;32mreturn\u001b[0m \u001b[0mp\u001b[0m\u001b[0;34m\u001b[0m\u001b[0;34m\u001b[0m\u001b[0m\n\u001b[1;32m   1674\u001b[0m \u001b[0;34m\u001b[0m\u001b[0m\n",
            "\u001b[0;32m/usr/local/lib/python3.7/dist-packages/sklearn/metrics/_classification.py\u001b[0m in \u001b[0;36mprecision_recall_fscore_support\u001b[0;34m(y_true, y_pred, beta, labels, pos_label, average, warn_for, sample_weight, zero_division)\u001b[0m\n\u001b[1;32m   1482\u001b[0m         \u001b[0;32mraise\u001b[0m \u001b[0mValueError\u001b[0m\u001b[0;34m(\u001b[0m\u001b[0;34m\"beta should be >=0 in the F-beta score\"\u001b[0m\u001b[0;34m)\u001b[0m\u001b[0;34m\u001b[0m\u001b[0;34m\u001b[0m\u001b[0m\n\u001b[1;32m   1483\u001b[0m     labels = _check_set_wise_labels(y_true, y_pred, average, labels,\n\u001b[0;32m-> 1484\u001b[0;31m                                     pos_label)\n\u001b[0m\u001b[1;32m   1485\u001b[0m \u001b[0;34m\u001b[0m\u001b[0m\n\u001b[1;32m   1486\u001b[0m     \u001b[0;31m# Calculate tp_sum, pred_sum, true_sum ###\u001b[0m\u001b[0;34m\u001b[0m\u001b[0;34m\u001b[0m\u001b[0;34m\u001b[0m\u001b[0m\n",
            "\u001b[0;32m/usr/local/lib/python3.7/dist-packages/sklearn/metrics/_classification.py\u001b[0m in \u001b[0;36m_check_set_wise_labels\u001b[0;34m(y_true, y_pred, average, labels, pos_label)\u001b[0m\n\u001b[1;32m   1299\u001b[0m                          str(average_options))\n\u001b[1;32m   1300\u001b[0m \u001b[0;34m\u001b[0m\u001b[0m\n\u001b[0;32m-> 1301\u001b[0;31m     \u001b[0my_type\u001b[0m\u001b[0;34m,\u001b[0m \u001b[0my_true\u001b[0m\u001b[0;34m,\u001b[0m \u001b[0my_pred\u001b[0m \u001b[0;34m=\u001b[0m \u001b[0m_check_targets\u001b[0m\u001b[0;34m(\u001b[0m\u001b[0my_true\u001b[0m\u001b[0;34m,\u001b[0m \u001b[0my_pred\u001b[0m\u001b[0;34m)\u001b[0m\u001b[0;34m\u001b[0m\u001b[0;34m\u001b[0m\u001b[0m\n\u001b[0m\u001b[1;32m   1302\u001b[0m     \u001b[0mpresent_labels\u001b[0m \u001b[0;34m=\u001b[0m \u001b[0munique_labels\u001b[0m\u001b[0;34m(\u001b[0m\u001b[0my_true\u001b[0m\u001b[0;34m,\u001b[0m \u001b[0my_pred\u001b[0m\u001b[0;34m)\u001b[0m\u001b[0;34m\u001b[0m\u001b[0;34m\u001b[0m\u001b[0m\n\u001b[1;32m   1303\u001b[0m     \u001b[0;32mif\u001b[0m \u001b[0maverage\u001b[0m \u001b[0;34m==\u001b[0m \u001b[0;34m'binary'\u001b[0m\u001b[0;34m:\u001b[0m\u001b[0;34m\u001b[0m\u001b[0;34m\u001b[0m\u001b[0m\n",
            "\u001b[0;32m/usr/local/lib/python3.7/dist-packages/sklearn/metrics/_classification.py\u001b[0m in \u001b[0;36m_check_targets\u001b[0;34m(y_true, y_pred)\u001b[0m\n\u001b[1;32m     88\u001b[0m     \u001b[0;32mif\u001b[0m \u001b[0mlen\u001b[0m\u001b[0;34m(\u001b[0m\u001b[0my_type\u001b[0m\u001b[0;34m)\u001b[0m \u001b[0;34m>\u001b[0m \u001b[0;36m1\u001b[0m\u001b[0;34m:\u001b[0m\u001b[0;34m\u001b[0m\u001b[0;34m\u001b[0m\u001b[0m\n\u001b[1;32m     89\u001b[0m         raise ValueError(\"Classification metrics can't handle a mix of {0} \"\n\u001b[0;32m---> 90\u001b[0;31m                          \"and {1} targets\".format(type_true, type_pred))\n\u001b[0m\u001b[1;32m     91\u001b[0m \u001b[0;34m\u001b[0m\u001b[0m\n\u001b[1;32m     92\u001b[0m     \u001b[0;31m# We can't have more than one value on y_type => The set is no more needed\u001b[0m\u001b[0;34m\u001b[0m\u001b[0;34m\u001b[0m\u001b[0;34m\u001b[0m\u001b[0m\n",
            "\u001b[0;31mValueError\u001b[0m: Classification metrics can't handle a mix of multilabel-indicator and continuous-multioutput targets"
          ]
        }
      ]
    },
    {
      "cell_type": "markdown",
      "metadata": {
        "id": "WWBTY6f2NIqS"
      },
      "source": [
        "References:\n",
        "\n",
        "https://machinelearningmastery.com/how-to-develop-a-convolutional-neural-network-from-scratch-for-mnist-handwritten-digit-classification/\n",
        "\n",
        "\n",
        "https://towardsdatascience.com/image-classification-in-10-minutes-with-mnist-dataset-54c35b77a38d\n",
        "\n",
        "https://www.analyticsvidhya.com/blog/2021/06/mnist-dataset-prediction-using-keras/\n",
        "\n",
        "https://www.kaggle.com/prashant111/mnist-deep-neural-network-with-keras\n",
        "\n",
        "https://www.datacamp.com/community/tutorials/convolutional-neural-networks-python\n",
        "\n",
        "https://journalofbigdata.springeropen.com/articles/10.1186/s40537-021-00444-8\n",
        "\n",
        "https://towardsdatascience.com/implementing-alexnet-cnn-architecture-using-tensorflow-2-0-and-keras-2113e090ad98\n",
        "\n",
        "https://machinelearningmastery.com/how-to-develop-a-convolutional-neural-network-from-scratch-for-mnist-handwritten-digit-classification/\n",
        "\n",
        "\n",
        "https://www.datacamp.com/community/tutorials/cnn-tensorflow-python\n",
        "\n",
        "https://towardsdatascience.com/a-walkthrough-of-convolutional-neural-network-7f474f91d7bd\n"
      ]
    },
    {
      "cell_type": "markdown",
      "metadata": {
        "id": "Gg_BNET1VVvE"
      },
      "source": [
        ""
      ]
    },
    {
      "cell_type": "code",
      "metadata": {
        "colab": {
          "base_uri": "https://localhost:8080/"
        },
        "id": "xhLRbVV4vlpq",
        "outputId": "03c9bdef-6aa9-4bbd-d872-ea97659fe432"
      },
      "source": [
        "# Complex CNN Model\n",
        "import numpy\n",
        "import tensorflow as tf\n",
        "from tensorflow.keras.datasets import mnist\n",
        "from tensorflow.keras.models import Sequential\n",
        "from tensorflow.keras.layers import Dense\n",
        "from tensorflow.keras.layers import Dropout\n",
        "from tensorflow.keras.layers import Flatten\n",
        "from tensorflow.keras.layers import Conv2D\n",
        "from tensorflow.keras.layers import MaxPooling2D\n",
        "from tensorflow.keras.utils import to_categorical\n",
        "\n",
        "from keras.layers import BatchNormalization\n",
        "from keras.optimizers import SGD\n",
        "\n",
        "# fix random seed for reproducibility\n",
        "seed = 88\n",
        "numpy.random.seed(seed)\n",
        "\n",
        "# load data\n",
        "(X_train, y_train), (X_test, y_test) = mnist.load_data()\n",
        "\n",
        "# Data Pre-processing\n",
        "\n",
        "num_pixels = X_train.shape[1] * X_train.shape[2]\n",
        "print(num_pixels)\n",
        "\n",
        "# flatten 28*28 pixel images to a 784 pixels vector (single array) for each image\n",
        "#convert from integer to float (0 (black) -255(white) )\n",
        "#convert float because matix multiplcation in neural network works better with float\n",
        "# reshape to be [samples][pixels][width][height]\n",
        "X_train = X_train.reshape(X_train.shape[0], 28, 28, 1).astype('float32')\n",
        "X_test = X_test.reshape(X_test.shape[0], 28, 28, 1).astype('float32')\n",
        "\n",
        "#X - do scaling\n",
        "# normalize inputs from 0-255 to 0-1 , no need call standard scalar\n",
        "X_train = X_train / 255\n",
        "X_test = X_test / 255\n",
        "\n",
        "# Y - one hot encode outputs so as to represent 10 outputs\n",
        "y_train = to_categorical(y_train)\n",
        "y_test = to_categorical(y_test)\n",
        "num_classes = y_test.shape[1]\n",
        "print(num_classes)\n",
        "\n",
        "# build the model\n",
        "# create model\n",
        "model = Sequential()\n",
        "\n",
        "#input layer\n",
        "\n",
        "#Conv layer (filter layer) need input shape,28x28x1(NHWC) - 1 colour (monochrome)\n",
        "#filter size (5,5), number of filters=32\n",
        "model.add(Conv2D(30, (5, 5), input_shape=(28, 28, 1), activation='relu', kernel_initializer='he_uniform'))#0.60%\n",
        "model.add(MaxPooling2D(pool_size=(2, 2))) #pooling layer is a compression layer - downsize image (insert in between conv layer but don't too much, the original image will be gone)\n",
        "\n",
        "# Hidden layers\n",
        "model.add(Conv2D(15, (3, 3), activation='relu', kernel_initializer='he_uniform'))#0.76\n",
        "model.add(MaxPooling2D(pool_size=(2, 2)))\n",
        "model.add(Dropout(0.5)) #tune from 0.2 to 0.5\n",
        "model.add(Flatten())\n",
        "model.add(Dense(100, activation='relu', kernel_initializer='he_uniform'))\n",
        "model.add(Dense(50, activation='relu', kernel_initializer='he_uniform'))\n",
        "\n",
        "#output layer - 10 neurons to predict the images of 10 digits (0-9)\n",
        "model.add(Dense(num_classes, activation='softmax'))\n",
        "\n",
        "# Compile model\n",
        "opt = SGD(learning_rate=0.01, momentum=0.9)\n",
        "model.compile(loss='categorical_crossentropy',optimizer='adam', metrics=['accuracy'])\n",
        "model.compile(loss='categorical_crossentropy',optimizer=opt, metrics=['accuracy'])\n",
        "print(model.summary())\n",
        "\n",
        "# Fit the model\n",
        "historyCOM = model.fit(X_train, y_train, validation_data=(X_test, y_test), epochs=20, batch_size=200, verbose=2)#0.60\n",
        "\n",
        "# Final evaluation of the model\n",
        "scores = model.evaluate(X_test, y_test, verbose=0)\n",
        "print(\"CNN Error: %.2f%%\" % (100-scores[1]*100))"
      ],
      "execution_count": 9,
      "outputs": [
        {
          "output_type": "stream",
          "text": [
            "784\n",
            "10\n",
            "Model: \"sequential_6\"\n",
            "_________________________________________________________________\n",
            "Layer (type)                 Output Shape              Param #   \n",
            "=================================================================\n",
            "conv2d_12 (Conv2D)           (None, 24, 24, 30)        780       \n",
            "_________________________________________________________________\n",
            "max_pooling2d_12 (MaxPooling (None, 12, 12, 30)        0         \n",
            "_________________________________________________________________\n",
            "conv2d_13 (Conv2D)           (None, 10, 10, 15)        4065      \n",
            "_________________________________________________________________\n",
            "max_pooling2d_13 (MaxPooling (None, 5, 5, 15)          0         \n",
            "_________________________________________________________________\n",
            "dropout_6 (Dropout)          (None, 5, 5, 15)          0         \n",
            "_________________________________________________________________\n",
            "flatten_7 (Flatten)          (None, 375)               0         \n",
            "_________________________________________________________________\n",
            "dense_18 (Dense)             (None, 100)               37600     \n",
            "_________________________________________________________________\n",
            "dense_19 (Dense)             (None, 50)                5050      \n",
            "_________________________________________________________________\n",
            "dense_20 (Dense)             (None, 10)                510       \n",
            "=================================================================\n",
            "Total params: 48,005\n",
            "Trainable params: 48,005\n",
            "Non-trainable params: 0\n",
            "_________________________________________________________________\n",
            "None\n",
            "Epoch 1/20\n",
            "300/300 - 2s - loss: 0.8836 - accuracy: 0.6990 - val_loss: 0.1405 - val_accuracy: 0.9567\n",
            "Epoch 2/20\n",
            "300/300 - 1s - loss: 0.2596 - accuracy: 0.9179 - val_loss: 0.0877 - val_accuracy: 0.9728\n",
            "Epoch 3/20\n",
            "300/300 - 1s - loss: 0.1994 - accuracy: 0.9375 - val_loss: 0.0708 - val_accuracy: 0.9763\n",
            "Epoch 4/20\n",
            "300/300 - 1s - loss: 0.1745 - accuracy: 0.9448 - val_loss: 0.0651 - val_accuracy: 0.9788\n",
            "Epoch 5/20\n",
            "300/300 - 1s - loss: 0.1600 - accuracy: 0.9496 - val_loss: 0.0572 - val_accuracy: 0.9812\n",
            "Epoch 6/20\n",
            "300/300 - 1s - loss: 0.1437 - accuracy: 0.9540 - val_loss: 0.0516 - val_accuracy: 0.9832\n",
            "Epoch 7/20\n",
            "300/300 - 1s - loss: 0.1366 - accuracy: 0.9578 - val_loss: 0.0494 - val_accuracy: 0.9844\n",
            "Epoch 8/20\n",
            "300/300 - 1s - loss: 0.1279 - accuracy: 0.9592 - val_loss: 0.0445 - val_accuracy: 0.9863\n",
            "Epoch 9/20\n",
            "300/300 - 1s - loss: 0.1172 - accuracy: 0.9635 - val_loss: 0.0384 - val_accuracy: 0.9868\n",
            "Epoch 10/20\n",
            "300/300 - 1s - loss: 0.1125 - accuracy: 0.9649 - val_loss: 0.0388 - val_accuracy: 0.9873\n",
            "Epoch 11/20\n",
            "300/300 - 1s - loss: 0.1094 - accuracy: 0.9658 - val_loss: 0.0356 - val_accuracy: 0.9883\n",
            "Epoch 12/20\n",
            "300/300 - 1s - loss: 0.1023 - accuracy: 0.9679 - val_loss: 0.0363 - val_accuracy: 0.9874\n",
            "Epoch 13/20\n",
            "300/300 - 1s - loss: 0.1034 - accuracy: 0.9677 - val_loss: 0.0367 - val_accuracy: 0.9877\n",
            "Epoch 14/20\n",
            "300/300 - 1s - loss: 0.0986 - accuracy: 0.9681 - val_loss: 0.0358 - val_accuracy: 0.9884\n",
            "Epoch 15/20\n",
            "300/300 - 1s - loss: 0.0952 - accuracy: 0.9699 - val_loss: 0.0313 - val_accuracy: 0.9900\n",
            "Epoch 16/20\n",
            "300/300 - 1s - loss: 0.0935 - accuracy: 0.9700 - val_loss: 0.0310 - val_accuracy: 0.9892\n",
            "Epoch 17/20\n",
            "300/300 - 1s - loss: 0.0911 - accuracy: 0.9710 - val_loss: 0.0293 - val_accuracy: 0.9901\n",
            "Epoch 18/20\n",
            "300/300 - 1s - loss: 0.0901 - accuracy: 0.9707 - val_loss: 0.0302 - val_accuracy: 0.9897\n",
            "Epoch 19/20\n",
            "300/300 - 1s - loss: 0.0869 - accuracy: 0.9729 - val_loss: 0.0288 - val_accuracy: 0.9906\n",
            "Epoch 20/20\n",
            "300/300 - 1s - loss: 0.0863 - accuracy: 0.9723 - val_loss: 0.0303 - val_accuracy: 0.9902\n",
            "CNN Error: 0.98%\n"
          ],
          "name": "stdout"
        }
      ]
    }
  ]
}